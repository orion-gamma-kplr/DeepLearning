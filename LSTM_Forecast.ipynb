{
  "nbformat": 4,
  "nbformat_minor": 0,
  "metadata": {
    "kernelspec": {
      "name": "python3",
      "display_name": "Python 3"
    },
    "language_info": {
      "name": "python"
    },
    "colab": {
      "provenance": [],
      "gpuType": "T4",
      "include_colab_link": true
    },
    "accelerator": "GPU"
  },
  "cells": [
    {
      "cell_type": "markdown",
      "metadata": {
        "id": "view-in-github",
        "colab_type": "text"
      },
      "source": [
        "<a href=\"https://colab.research.google.com/github/orion-gamma-kplr/DeepLearning/blob/main/LSTM_Forecast.ipynb\" target=\"_parent\"><img src=\"https://colab.research.google.com/assets/colab-badge.svg\" alt=\"Open In Colab\"/></a>"
      ]
    },
    {
      "cell_type": "markdown",
      "source": [
        "#### LSTM for international airline passengers"
      ],
      "metadata": {
        "id": "ckKWAmByH6tz"
      }
    },
    {
      "cell_type": "code",
      "execution_count": 2,
      "metadata": {
        "id": "IZDKYNBAHS6q"
      },
      "outputs": [],
      "source": [
        "import numpy\n",
        "import matplotlib.pyplot as plt\n",
        "from pandas import read_csv\n",
        "import math\n",
        "from keras.models import Sequential\n",
        "from keras.layers import Dense\n",
        "from keras.layers import LSTM\n",
        "from sklearn.preprocessing import MinMaxScaler\n",
        "from sklearn.metrics import mean_squared_error\n"
      ]
    },
    {
      "cell_type": "markdown",
      "source": [
        "#### Convert an array of values into a dataset matrix\n"
      ],
      "metadata": {
        "id": "RZMa9qU2H7Hk"
      }
    },
    {
      "cell_type": "code",
      "source": [
        "def create_dataset(dataset, look_back=1):\n",
        "\tdataX, dataY = [], []\n",
        "\tfor i in range(len(dataset)-look_back-1):\n",
        "\t\ta = dataset[i:(i+look_back), 0]\n",
        "\t\tdataX.append(a)\n",
        "\t\tdataY.append(dataset[i + look_back, 0])\n",
        "\treturn numpy.array(dataX), numpy.array(dataY)\n"
      ],
      "metadata": {
        "id": "2NwnEiNmHckX"
      },
      "execution_count": 3,
      "outputs": []
    },
    {
      "cell_type": "markdown",
      "source": [
        "#### Fix random seed for reproducibility\n"
      ],
      "metadata": {
        "id": "gmQpaF9ZH76r"
      }
    },
    {
      "cell_type": "code",
      "source": [
        "numpy.random.seed(7)\n"
      ],
      "metadata": {
        "id": "Hi8wnnrFHciV"
      },
      "execution_count": 4,
      "outputs": []
    },
    {
      "cell_type": "markdown",
      "source": [
        "Link to dataset : <br>\n",
        "https://raw.githubusercontent.com/jbrownlee/Datasets/master/airline-passengers.csv"
      ],
      "metadata": {
        "id": "dzjpn2cqJrBI"
      }
    },
    {
      "cell_type": "markdown",
      "source": [
        "#### Load the dataset\n"
      ],
      "metadata": {
        "id": "y_GD4AcxIBT6"
      }
    },
    {
      "cell_type": "code",
      "source": [
        "dataframe = read_csv('https://raw.githubusercontent.com/jbrownlee/Datasets/master/airline-passengers.csv', usecols=[1], engine='python')\n",
        "dataset = dataframe.values\n",
        "dataset = dataset.astype('float32')\n"
      ],
      "metadata": {
        "id": "wn9uGOWxHcf9"
      },
      "execution_count": 5,
      "outputs": []
    },
    {
      "cell_type": "markdown",
      "source": [
        "#### Normalize the dataset"
      ],
      "metadata": {
        "id": "mbGoLX5hIBxG"
      }
    },
    {
      "cell_type": "code",
      "source": [
        "\n",
        "scaler = MinMaxScaler(feature_range=(0, 1))\n",
        "dataset = scaler.fit_transform(dataset)\n"
      ],
      "metadata": {
        "id": "oVVG7jlXHcds"
      },
      "execution_count": 6,
      "outputs": []
    },
    {
      "cell_type": "markdown",
      "source": [
        "#### Split into train and test sets\n"
      ],
      "metadata": {
        "id": "C9HkzmEMICna"
      }
    },
    {
      "cell_type": "code",
      "source": [
        "train_size = int(len(dataset) * 0.67)\n",
        "test_size = len(dataset) - train_size\n",
        "train, test = dataset[0:train_size,:], dataset[train_size:len(dataset),:]\n"
      ],
      "metadata": {
        "id": "NUohhyqFHcbw"
      },
      "execution_count": 7,
      "outputs": []
    },
    {
      "cell_type": "markdown",
      "source": [
        "#### Reshape into X=t and Y=t+1"
      ],
      "metadata": {
        "id": "gORxHVCEIC-S"
      }
    },
    {
      "cell_type": "code",
      "source": [
        "\n",
        "look_back = 1\n",
        "trainX, trainY = create_dataset(train, look_back)\n",
        "testX, testY = create_dataset(test, look_back)\n"
      ],
      "metadata": {
        "id": "UYr2L0PTHcZU"
      },
      "execution_count": 8,
      "outputs": []
    },
    {
      "cell_type": "markdown",
      "source": [
        "#### Reshape input to be [samples, time steps, features]\n"
      ],
      "metadata": {
        "id": "DSekcxplIDeR"
      }
    },
    {
      "cell_type": "code",
      "source": [
        "trainX = numpy.reshape(trainX, (trainX.shape[0], 1, trainX.shape[1]))\n",
        "testX = numpy.reshape(testX, (testX.shape[0], 1, testX.shape[1]))\n"
      ],
      "metadata": {
        "id": "cm2nsuJDHcXV"
      },
      "execution_count": null,
      "outputs": []
    },
    {
      "cell_type": "markdown",
      "source": [
        "#### Create and fit the LSTM network\n"
      ],
      "metadata": {
        "id": "N-thOrRlID7c"
      }
    },
    {
      "cell_type": "code",
      "source": [
        "model = Sequential()\n",
        "model.add(LSTM(4, input_shape=(1, look_back)))\n",
        "model.add(Dense(1))\n",
        "model.compile(loss='mean_squared_error', optimizer='adam')\n",
        "model.fit(trainX, trainY, epochs=100, batch_size=1, verbose=2)\n"
      ],
      "metadata": {
        "id": "zk_XNSWtHcUW",
        "outputId": "7f945ade-bb90-44c7-c0a9-9c210884e23f",
        "colab": {
          "base_uri": "https://localhost:8080/"
        }
      },
      "execution_count": 9,
      "outputs": [
        {
          "output_type": "stream",
          "name": "stdout",
          "text": [
            "Epoch 1/100\n",
            "94/94 - 7s - loss: 0.0473 - 7s/epoch - 75ms/step\n",
            "Epoch 2/100\n",
            "94/94 - 0s - loss: 0.0245 - 245ms/epoch - 3ms/step\n",
            "Epoch 3/100\n",
            "94/94 - 0s - loss: 0.0175 - 256ms/epoch - 3ms/step\n",
            "Epoch 4/100\n",
            "94/94 - 0s - loss: 0.0157 - 275ms/epoch - 3ms/step\n",
            "Epoch 5/100\n",
            "94/94 - 0s - loss: 0.0148 - 254ms/epoch - 3ms/step\n",
            "Epoch 6/100\n",
            "94/94 - 0s - loss: 0.0138 - 249ms/epoch - 3ms/step\n",
            "Epoch 7/100\n",
            "94/94 - 0s - loss: 0.0129 - 249ms/epoch - 3ms/step\n",
            "Epoch 8/100\n",
            "94/94 - 0s - loss: 0.0120 - 254ms/epoch - 3ms/step\n",
            "Epoch 9/100\n",
            "94/94 - 0s - loss: 0.0111 - 247ms/epoch - 3ms/step\n",
            "Epoch 10/100\n",
            "94/94 - 0s - loss: 0.0102 - 255ms/epoch - 3ms/step\n",
            "Epoch 11/100\n",
            "94/94 - 0s - loss: 0.0091 - 244ms/epoch - 3ms/step\n",
            "Epoch 12/100\n",
            "94/94 - 0s - loss: 0.0082 - 250ms/epoch - 3ms/step\n",
            "Epoch 13/100\n",
            "94/94 - 0s - loss: 0.0073 - 242ms/epoch - 3ms/step\n",
            "Epoch 14/100\n",
            "94/94 - 0s - loss: 0.0064 - 259ms/epoch - 3ms/step\n",
            "Epoch 15/100\n",
            "94/94 - 0s - loss: 0.0057 - 262ms/epoch - 3ms/step\n",
            "Epoch 16/100\n",
            "94/94 - 0s - loss: 0.0049 - 250ms/epoch - 3ms/step\n",
            "Epoch 17/100\n",
            "94/94 - 0s - loss: 0.0043 - 240ms/epoch - 3ms/step\n",
            "Epoch 18/100\n",
            "94/94 - 0s - loss: 0.0038 - 247ms/epoch - 3ms/step\n",
            "Epoch 19/100\n",
            "94/94 - 0s - loss: 0.0033 - 246ms/epoch - 3ms/step\n",
            "Epoch 20/100\n",
            "94/94 - 0s - loss: 0.0029 - 250ms/epoch - 3ms/step\n",
            "Epoch 21/100\n",
            "94/94 - 0s - loss: 0.0026 - 257ms/epoch - 3ms/step\n",
            "Epoch 22/100\n",
            "94/94 - 0s - loss: 0.0024 - 244ms/epoch - 3ms/step\n",
            "Epoch 23/100\n",
            "94/94 - 0s - loss: 0.0023 - 251ms/epoch - 3ms/step\n",
            "Epoch 24/100\n",
            "94/94 - 0s - loss: 0.0022 - 275ms/epoch - 3ms/step\n",
            "Epoch 25/100\n",
            "94/94 - 0s - loss: 0.0021 - 251ms/epoch - 3ms/step\n",
            "Epoch 26/100\n",
            "94/94 - 0s - loss: 0.0021 - 257ms/epoch - 3ms/step\n",
            "Epoch 27/100\n",
            "94/94 - 0s - loss: 0.0020 - 343ms/epoch - 4ms/step\n",
            "Epoch 28/100\n",
            "94/94 - 0s - loss: 0.0020 - 333ms/epoch - 4ms/step\n",
            "Epoch 29/100\n",
            "94/94 - 0s - loss: 0.0020 - 331ms/epoch - 4ms/step\n",
            "Epoch 30/100\n",
            "94/94 - 0s - loss: 0.0021 - 354ms/epoch - 4ms/step\n",
            "Epoch 31/100\n",
            "94/94 - 0s - loss: 0.0020 - 363ms/epoch - 4ms/step\n",
            "Epoch 32/100\n",
            "94/94 - 0s - loss: 0.0020 - 331ms/epoch - 4ms/step\n",
            "Epoch 33/100\n",
            "94/94 - 0s - loss: 0.0020 - 340ms/epoch - 4ms/step\n",
            "Epoch 34/100\n",
            "94/94 - 0s - loss: 0.0020 - 350ms/epoch - 4ms/step\n",
            "Epoch 35/100\n",
            "94/94 - 0s - loss: 0.0019 - 404ms/epoch - 4ms/step\n",
            "Epoch 36/100\n",
            "94/94 - 0s - loss: 0.0020 - 332ms/epoch - 4ms/step\n",
            "Epoch 37/100\n",
            "94/94 - 0s - loss: 0.0020 - 342ms/epoch - 4ms/step\n",
            "Epoch 38/100\n",
            "94/94 - 0s - loss: 0.0020 - 350ms/epoch - 4ms/step\n",
            "Epoch 39/100\n",
            "94/94 - 0s - loss: 0.0021 - 258ms/epoch - 3ms/step\n",
            "Epoch 40/100\n",
            "94/94 - 0s - loss: 0.0020 - 268ms/epoch - 3ms/step\n",
            "Epoch 41/100\n",
            "94/94 - 0s - loss: 0.0021 - 252ms/epoch - 3ms/step\n",
            "Epoch 42/100\n",
            "94/94 - 0s - loss: 0.0020 - 234ms/epoch - 2ms/step\n",
            "Epoch 43/100\n",
            "94/94 - 0s - loss: 0.0020 - 242ms/epoch - 3ms/step\n",
            "Epoch 44/100\n",
            "94/94 - 0s - loss: 0.0020 - 256ms/epoch - 3ms/step\n",
            "Epoch 45/100\n",
            "94/94 - 0s - loss: 0.0020 - 250ms/epoch - 3ms/step\n",
            "Epoch 46/100\n",
            "94/94 - 0s - loss: 0.0020 - 242ms/epoch - 3ms/step\n",
            "Epoch 47/100\n",
            "94/94 - 0s - loss: 0.0021 - 250ms/epoch - 3ms/step\n",
            "Epoch 48/100\n",
            "94/94 - 0s - loss: 0.0020 - 261ms/epoch - 3ms/step\n",
            "Epoch 49/100\n",
            "94/94 - 0s - loss: 0.0020 - 266ms/epoch - 3ms/step\n",
            "Epoch 50/100\n",
            "94/94 - 0s - loss: 0.0021 - 250ms/epoch - 3ms/step\n",
            "Epoch 51/100\n",
            "94/94 - 0s - loss: 0.0021 - 257ms/epoch - 3ms/step\n",
            "Epoch 52/100\n",
            "94/94 - 0s - loss: 0.0020 - 253ms/epoch - 3ms/step\n",
            "Epoch 53/100\n",
            "94/94 - 0s - loss: 0.0020 - 255ms/epoch - 3ms/step\n",
            "Epoch 54/100\n",
            "94/94 - 0s - loss: 0.0020 - 250ms/epoch - 3ms/step\n",
            "Epoch 55/100\n",
            "94/94 - 0s - loss: 0.0020 - 247ms/epoch - 3ms/step\n",
            "Epoch 56/100\n",
            "94/94 - 0s - loss: 0.0020 - 266ms/epoch - 3ms/step\n",
            "Epoch 57/100\n",
            "94/94 - 0s - loss: 0.0020 - 249ms/epoch - 3ms/step\n",
            "Epoch 58/100\n",
            "94/94 - 0s - loss: 0.0020 - 247ms/epoch - 3ms/step\n",
            "Epoch 59/100\n",
            "94/94 - 0s - loss: 0.0021 - 251ms/epoch - 3ms/step\n",
            "Epoch 60/100\n",
            "94/94 - 0s - loss: 0.0020 - 253ms/epoch - 3ms/step\n",
            "Epoch 61/100\n",
            "94/94 - 0s - loss: 0.0020 - 254ms/epoch - 3ms/step\n",
            "Epoch 62/100\n",
            "94/94 - 0s - loss: 0.0020 - 242ms/epoch - 3ms/step\n",
            "Epoch 63/100\n",
            "94/94 - 0s - loss: 0.0020 - 255ms/epoch - 3ms/step\n",
            "Epoch 64/100\n",
            "94/94 - 0s - loss: 0.0020 - 388ms/epoch - 4ms/step\n",
            "Epoch 65/100\n",
            "94/94 - 0s - loss: 0.0021 - 399ms/epoch - 4ms/step\n",
            "Epoch 66/100\n",
            "94/94 - 0s - loss: 0.0020 - 259ms/epoch - 3ms/step\n",
            "Epoch 67/100\n",
            "94/94 - 0s - loss: 0.0020 - 309ms/epoch - 3ms/step\n",
            "Epoch 68/100\n",
            "94/94 - 0s - loss: 0.0020 - 392ms/epoch - 4ms/step\n",
            "Epoch 69/100\n",
            "94/94 - 0s - loss: 0.0020 - 334ms/epoch - 4ms/step\n",
            "Epoch 70/100\n",
            "94/94 - 0s - loss: 0.0020 - 252ms/epoch - 3ms/step\n",
            "Epoch 71/100\n",
            "94/94 - 1s - loss: 0.0020 - 620ms/epoch - 7ms/step\n",
            "Epoch 72/100\n",
            "94/94 - 1s - loss: 0.0020 - 635ms/epoch - 7ms/step\n",
            "Epoch 73/100\n",
            "94/94 - 0s - loss: 0.0020 - 336ms/epoch - 4ms/step\n",
            "Epoch 74/100\n",
            "94/94 - 0s - loss: 0.0020 - 331ms/epoch - 4ms/step\n",
            "Epoch 75/100\n",
            "94/94 - 0s - loss: 0.0020 - 329ms/epoch - 4ms/step\n",
            "Epoch 76/100\n",
            "94/94 - 0s - loss: 0.0020 - 252ms/epoch - 3ms/step\n",
            "Epoch 77/100\n",
            "94/94 - 0s - loss: 0.0021 - 254ms/epoch - 3ms/step\n",
            "Epoch 78/100\n",
            "94/94 - 0s - loss: 0.0020 - 249ms/epoch - 3ms/step\n",
            "Epoch 79/100\n",
            "94/94 - 0s - loss: 0.0019 - 250ms/epoch - 3ms/step\n",
            "Epoch 80/100\n",
            "94/94 - 0s - loss: 0.0020 - 246ms/epoch - 3ms/step\n",
            "Epoch 81/100\n",
            "94/94 - 0s - loss: 0.0020 - 252ms/epoch - 3ms/step\n",
            "Epoch 82/100\n",
            "94/94 - 0s - loss: 0.0020 - 254ms/epoch - 3ms/step\n",
            "Epoch 83/100\n",
            "94/94 - 0s - loss: 0.0020 - 249ms/epoch - 3ms/step\n",
            "Epoch 84/100\n",
            "94/94 - 0s - loss: 0.0020 - 243ms/epoch - 3ms/step\n",
            "Epoch 85/100\n",
            "94/94 - 0s - loss: 0.0020 - 249ms/epoch - 3ms/step\n",
            "Epoch 86/100\n",
            "94/94 - 0s - loss: 0.0020 - 259ms/epoch - 3ms/step\n",
            "Epoch 87/100\n",
            "94/94 - 0s - loss: 0.0020 - 260ms/epoch - 3ms/step\n",
            "Epoch 88/100\n",
            "94/94 - 0s - loss: 0.0020 - 259ms/epoch - 3ms/step\n",
            "Epoch 89/100\n",
            "94/94 - 0s - loss: 0.0020 - 278ms/epoch - 3ms/step\n",
            "Epoch 90/100\n",
            "94/94 - 0s - loss: 0.0020 - 252ms/epoch - 3ms/step\n",
            "Epoch 91/100\n",
            "94/94 - 0s - loss: 0.0020 - 245ms/epoch - 3ms/step\n",
            "Epoch 92/100\n",
            "94/94 - 0s - loss: 0.0020 - 256ms/epoch - 3ms/step\n",
            "Epoch 93/100\n",
            "94/94 - 0s - loss: 0.0020 - 275ms/epoch - 3ms/step\n",
            "Epoch 94/100\n",
            "94/94 - 0s - loss: 0.0020 - 253ms/epoch - 3ms/step\n",
            "Epoch 95/100\n",
            "94/94 - 0s - loss: 0.0020 - 243ms/epoch - 3ms/step\n",
            "Epoch 96/100\n",
            "94/94 - 0s - loss: 0.0019 - 247ms/epoch - 3ms/step\n",
            "Epoch 97/100\n",
            "94/94 - 0s - loss: 0.0020 - 256ms/epoch - 3ms/step\n",
            "Epoch 98/100\n",
            "94/94 - 0s - loss: 0.0020 - 250ms/epoch - 3ms/step\n",
            "Epoch 99/100\n",
            "94/94 - 0s - loss: 0.0020 - 246ms/epoch - 3ms/step\n",
            "Epoch 100/100\n",
            "94/94 - 0s - loss: 0.0020 - 253ms/epoch - 3ms/step\n"
          ]
        },
        {
          "output_type": "execute_result",
          "data": {
            "text/plain": [
              "<keras.callbacks.History at 0x7a021108b5e0>"
            ]
          },
          "metadata": {},
          "execution_count": 9
        }
      ]
    },
    {
      "cell_type": "markdown",
      "source": [
        "#### Make predictions\n"
      ],
      "metadata": {
        "id": "lhgF0QAAIE2w"
      }
    },
    {
      "cell_type": "code",
      "source": [
        "trainPredict = model.predict(trainX)\n",
        "testPredict = model.predict(testX)\n"
      ],
      "metadata": {
        "id": "pq13LgcIHcNU",
        "outputId": "13ef0768-89c6-456a-ff51-10030911c878",
        "colab": {
          "base_uri": "https://localhost:8080/"
        }
      },
      "execution_count": 10,
      "outputs": [
        {
          "output_type": "stream",
          "name": "stdout",
          "text": [
            "3/3 [==============================] - 0s 3ms/step\n",
            "2/2 [==============================] - 0s 4ms/step\n"
          ]
        }
      ]
    },
    {
      "cell_type": "markdown",
      "source": [
        "#### Invert predictions\n"
      ],
      "metadata": {
        "id": "4JXXNKTTIFj2"
      }
    },
    {
      "cell_type": "code",
      "source": [
        "trainPredict = scaler.inverse_transform(trainPredict)\n",
        "trainY = scaler.inverse_transform([trainY])\n",
        "testPredict = scaler.inverse_transform(testPredict)\n",
        "testY = scaler.inverse_transform([testY])\n"
      ],
      "metadata": {
        "id": "BDELpN9mHcBB"
      },
      "execution_count": 11,
      "outputs": []
    },
    {
      "cell_type": "markdown",
      "source": [
        "#### calculate root mean squared error\n"
      ],
      "metadata": {
        "id": "seF_jMbbIF_f"
      }
    },
    {
      "cell_type": "code",
      "source": [
        "trainScore = math.sqrt(mean_squared_error(trainY[0], trainPredict[:,0]))\n",
        "print('Train Score: %.2f RMSE' % (trainScore))\n",
        "testScore = math.sqrt(mean_squared_error(testY[0], testPredict[:,0]))\n",
        "print('Test Score: %.2f RMSE' % (testScore))\n"
      ],
      "metadata": {
        "id": "mqckfeH_HyMJ",
        "outputId": "fab2eda3-7e8b-4ed4-96c5-f85427632102",
        "colab": {
          "base_uri": "https://localhost:8080/"
        }
      },
      "execution_count": 12,
      "outputs": [
        {
          "output_type": "stream",
          "name": "stdout",
          "text": [
            "Train Score: 22.87 RMSE\n",
            "Test Score: 51.76 RMSE\n"
          ]
        }
      ]
    },
    {
      "cell_type": "markdown",
      "source": [
        "#### Shift train predictions for plotting\n"
      ],
      "metadata": {
        "id": "x-tgLtTqIGfn"
      }
    },
    {
      "cell_type": "code",
      "source": [
        "trainPredictPlot = numpy.empty_like(dataset)\n",
        "trainPredictPlot[:, :] = numpy.nan\n",
        "trainPredictPlot[look_back:len(trainPredict)+look_back, :] = trainPredict\n"
      ],
      "metadata": {
        "id": "JVI-ayucHyJ-"
      },
      "execution_count": 13,
      "outputs": []
    },
    {
      "cell_type": "markdown",
      "source": [
        "#### Shift test predictions for plotting\n"
      ],
      "metadata": {
        "id": "QNyZHjYXIHI1"
      }
    },
    {
      "cell_type": "code",
      "source": [
        "testPredictPlot = numpy.empty_like(dataset)\n",
        "testPredictPlot[:, :] = numpy.nan\n",
        "testPredictPlot[len(trainPredict)+(look_back*2)+1:len(dataset)-1, :] = testPredict\n"
      ],
      "metadata": {
        "id": "_q4-1IKhHyHg"
      },
      "execution_count": 14,
      "outputs": []
    },
    {
      "cell_type": "markdown",
      "source": [
        "#### Plot baseline and predictions\n"
      ],
      "metadata": {
        "id": "bBa28cohIHle"
      }
    },
    {
      "cell_type": "code",
      "source": [
        "plt.plot(scaler.inverse_transform(dataset))\n",
        "plt.plot(trainPredictPlot)\n",
        "plt.plot(testPredictPlot)\n",
        "plt.show()"
      ],
      "metadata": {
        "id": "qi-F3p8RHyE4",
        "outputId": "aa9d9b99-9068-4654-c176-e30c882e6dbf",
        "colab": {
          "base_uri": "https://localhost:8080/",
          "height": 430
        }
      },
      "execution_count": 15,
      "outputs": [
        {
          "output_type": "display_data",
          "data": {
            "text/plain": [
              "<Figure size 640x480 with 1 Axes>"
            ],
            "image/png": "[encoded data removed]"
          },
          "metadata": {}
        }
      ]
    },
    {
      "cell_type": "code",
      "source": [],
      "metadata": {
        "id": "IEV5E8mfHx9s"
      },
      "execution_count": null,
      "outputs": []
    }
  ]
}